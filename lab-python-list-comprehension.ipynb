{
 "cells": [
  {
   "cell_type": "markdown",
   "id": "25d7736c-ba17-4aff-b6bb-66eba20fbf4e",
   "metadata": {},
   "source": [
    "# Lab | List, Dict and Set Comprehension"
   ]
  },
  {
   "cell_type": "markdown",
   "id": "7dd3cbde-675a-4b81-92c3-f728846dbe06",
   "metadata": {},
   "source": [
    "## Exercise: Managing Customer Orders Optimized with Comprehension"
   ]
  },
  {
   "cell_type": "markdown",
   "id": "5d500160-2fb7-4777-b5e4-09d45ebaf328",
   "metadata": {},
   "source": [
    "In the previous exercise, you developed a program to manage customer orders and inventory. Now, let's take it a step further and incorporate comprehension into your code.\n",
    "\n",
    "Follow the steps below to complete the exercise:\n",
    "\n",
    "1. Review your code from the previous exercise and identify areas where you can apply comprehension to simplify and streamline your code. \n",
    "\n",
    "    - *Hint: Apply it to initialize inventory, updating the inventory and printing the updated inventory.*\n",
    "    \n",
    "    - For example, in initializing the inventory, we could have:\n",
    "    \n",
    "        ```python\n",
    "        def initialize_inventory(products):\n",
    "            inventory = {product: int(input(f\"Enter the quantity of {product}s available: \")) for product in products}\n",
    "            return inventory\n",
    "\n",
    "        ```\n",
    "<br>\n",
    "    \n",
    "    \n",
    "2. Modify the function get_customer_orders so it prompts the user to enter the number of customer orders and gathers the product names using a loop and user input. Use comprehension.\n",
    "\n",
    "3. Add a new function to calculate the total price of the customer order. For each product in customer_orders, prompt the user to enter the price of that product. Use comprehension to calculate the total price. Note: assume that the user can only have 1 unit of each product.\n",
    "\n",
    "4. Modify the update_inventory function to remove the product from the inventory if its quantity becomes zero after fulfilling the customer orders. Use comprehension to filter out the products with a quantity of zero from the inventory.\n",
    "\n",
    "5. Print the total price of the customer order.\n",
    "\n",
    "Your code should produce output similar to the following:\n",
    "\n",
    "```python\n",
    "Enter the quantity of t-shirts available:  5\n",
    "Enter the quantity of mugs available:  4\n",
    "Enter the quantity of hats available:  3\n",
    "Enter the quantity of books available:  2\n",
    "Enter the quantity of keychains available:  1\n",
    "Enter the number of customer orders:  2\n",
    "Enter the name of a product that a customer wants to order:  hat\n",
    "Enter the name of a product that a customer wants to order:  keychain\n",
    "\n",
    "Order Statistics:\n",
    "Total Products Ordered: 2\n",
    "Percentage of Unique Products Ordered: 40.0\n",
    "\n",
    "Updated Inventory:\n",
    "t-shirt: 5\n",
    "mug: 4\n",
    "hat: 2\n",
    "book: 2\n",
    "Enter the price of keychain:  5\n",
    "Enter the price of hat:  10\n",
    "Total Price: 15.0\n",
    "\n",
    "```\n"
   ]
  },
  {
   "cell_type": "code",
   "execution_count": null,
   "id": "eb068f16",
   "metadata": {},
   "outputs": [],
   "source": [
    "productos = [\"t-shirt\", \"mug\", \"hat\", \"book\", \"keychain\"]\n",
    "productos"
   ]
  },
  {
   "cell_type": "code",
   "execution_count": null,
   "id": "002abf3c",
   "metadata": {},
   "outputs": [],
   "source": [
    "#parte 1 \n",
    "\n",
    "def update_inventory(pedido_comprador, inventario):\n",
    "    inventario = {producto: inventario[producto] - 1 if producto in pedido_comprador and inventario[producto] > 0 else inventario[producto] for producto in inventario}\n",
    "    return inventario"
   ]
  },
  {
   "cell_type": "code",
   "execution_count": null,
   "id": "cc13c587",
   "metadata": {},
   "outputs": [],
   "source": [
    "#parte 2 \n",
    "# Según el número de pedidos que el usuario meta, se le pedirá x número de productos a elegir. \n",
    "# Si el número de pedidos es 2 se pedirá 2 veces al usuario que seleccione un producto. \n",
    "# Estos productos crearan el pedido del comprador porque se van añadiendo al set con .add(). \n",
    "productos = [\"t-shirt\", \"mug\", \"hat\", \"book\", \"keychain\"]\n",
    "productos\n",
    "\n",
    "def get_customer_orders():\n",
    "    pedido_comprador = set()\n",
    "    while True:\n",
    "        numero_de_pedidos = int(input(\"¿Cuántos pedidos vas a querer?\"))\n",
    "        if numero_de_pedidos > 0: \n",
    "            break \n",
    "        else: \n",
    "            print(\"Por favor, marque un número válido\")\n",
    "    for i in range(numero_de_pedidos):\n",
    "        producto = input(f\"Elige un producto de la lista de productos {i+1}:\")\n",
    "        if producto in productos: \n",
    "            pedido_comprador.add(producto)\n",
    "        else:\n",
    "            print(\"Producto inválido.\")\n",
    "    print(f\"El número de pedidos es: {numero_de_pedidos}\")\n",
    "    print(f\"Los productos se han añadido a tu compra\")   \n",
    "    return pedido_comprador\n",
    "\n",
    "get_customer_orders()"
   ]
  },
  {
   "cell_type": "code",
   "execution_count": null,
   "id": "13b56653",
   "metadata": {},
   "outputs": [],
   "source": [
    "# parte 2 comprehension\n",
    "def get_customer_orders():\n",
    "    numero_de_pedidos = int(input(\"¿Cuántos pedidos vas a querer?\"))\n",
    "    pedido_comprador = set(input(f\"Elige un producto de la lista de productos:\") for i in range(numero_de_pedidos))\n",
    "    return pedido_comprador"
   ]
  },
  {
   "cell_type": "code",
   "execution_count": null,
   "id": "c2d57e13",
   "metadata": {},
   "outputs": [],
   "source": [
    "pedido_comprador = get_customer_orders()\n",
    "print(pedido_comprador)"
   ]
  },
  {
   "cell_type": "code",
   "execution_count": null,
   "id": "2125aa3b",
   "metadata": {},
   "outputs": [],
   "source": [
    "#parte 3 nueva función : calculate the total price of the customer order.\n",
    "#para cada producto del pedido pídele al usuario (input) el precio del producto . \n",
    "#solo una unidad por producto. \n",
    "#habría que hacer una suma de todos los precios con .sum si es lista que es mutable\n",
    "\n",
    "def calcular_precio_total ():\n",
    "    precio_total = 0\n",
    "    for producto in pedido_comprador:\n",
    "        precio = int(input (\"Indique el precio de este producto\"))\n",
    "        precio_total += precio \n",
    "    return precio_total\n",
    "\n",
    "calcular_precio_total()"
   ]
  },
  {
   "cell_type": "code",
   "execution_count": null,
   "id": "d6fb8baa",
   "metadata": {},
   "outputs": [],
   "source": [
    "#parte 3 nueva función comprehension\n",
    "\n",
    "def calcular_precio_total():\n",
    "    precio = { producto: int(input (\"Indique el precio de este producto\")) for producto in pedido_comprador}\n",
    "    precio_total= sum(precio.values())\n",
    "    return precio_total"
   ]
  },
  {
   "cell_type": "code",
   "execution_count": null,
   "id": "ef154ce9",
   "metadata": {},
   "outputs": [],
   "source": [
    "precio_total= calcular_precio_total()"
   ]
  },
  {
   "cell_type": "code",
   "execution_count": null,
   "id": "b9d89698",
   "metadata": {},
   "outputs": [],
   "source": [
    "precio_total"
   ]
  },
  {
   "cell_type": "code",
   "execution_count": null,
   "id": "05743f88",
   "metadata": {},
   "outputs": [],
   "source": [
    "# parte 4 , debemos hacer la comprehension para quitar / filtrar los productos a 0 cantidad\n",
    "# la funcion para que quite el producto del inventario si la cantidad == 0 despues del pedido del comprador\n",
    "# def update_inventory()\n",
    "    \n",
    "def update_inventory(pedido_comprador, inventario):\n",
    "    for producto in pedido_comprador:\n",
    "        if inventario[producto] > 0:\n",
    "            inventario[producto] -= 1\n",
    "\n",
    "        else:\n",
    "            print(f\"Aviso: {producto} está fuera de stock.\")\n",
    "\n",
    "    return inventario"
   ]
  },
  {
   "cell_type": "code",
   "execution_count": null,
   "id": "cb418ae5",
   "metadata": {},
   "outputs": [],
   "source": [
    "#parte 4 comprehension \n",
    "def update_inventory(pedido_comprador, inventario):\n",
    "    inventario = { producto : inventario[producto] - 1 if producto in pedido_comprador else inventario[producto] for producto in inventario}\n",
    "    inventario = { producto : cantidad for (producto, cantidad) in inventario.items() if cantidad > 0 }\n",
    "    return inventario"
   ]
  },
  {
   "cell_type": "code",
   "execution_count": null,
   "id": "b4d05087",
   "metadata": {},
   "outputs": [],
   "source": [
    "inventario=update_inventory(pedido_comprador, inventario)"
   ]
  },
  {
   "cell_type": "code",
   "execution_count": null,
   "id": "ed93aec7",
   "metadata": {},
   "outputs": [],
   "source": [
    "print(inventario)"
   ]
  }
 ],
 "metadata": {
  "kernelspec": {
   "display_name": "Python 3 (ipykernel)",
   "language": "python",
   "name": "python3"
  },
  "language_info": {
   "codemirror_mode": {
    "name": "ipython",
    "version": 3
   },
   "file_extension": ".py",
   "mimetype": "text/x-python",
   "name": "python",
   "nbconvert_exporter": "python",
   "pygments_lexer": "ipython3",
   "version": "3.9.13"
  }
 },
 "nbformat": 4,
 "nbformat_minor": 5
}
